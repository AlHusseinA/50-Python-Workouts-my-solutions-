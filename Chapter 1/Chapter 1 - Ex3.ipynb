{
 "cells": [
  {
   "cell_type": "code",
   "execution_count": 14,
   "id": "5996d563-b5b4-4401-925e-e0f0fb984c9a",
   "metadata": {},
   "outputs": [
    {
     "name": "stdin",
     "output_type": "stream",
     "text": [
      "Please Enter runtime in minutes! Enter 0 to indiate you've finished entering data 11\n",
      "Please Enter runtime in minutes! Enter 0 to indiate you've finished entering data 33\n",
      "Please Enter runtime in minutes! Enter 0 to indiate you've finished entering data 48\n",
      "Please Enter runtime in minutes! Enter 0 to indiate you've finished entering data \n"
     ]
    },
    {
     "name": "stdout",
     "output_type": "stream",
     "text": [
      "Your average running time was  23.00\n"
     ]
    }
   ],
   "source": [
    "\n",
    "#exercise 3\n",
    "\n",
    "def run_timing():\n",
    "    run_data = 0\n",
    "    cnt = 0\n",
    "    while True:\n",
    "        \n",
    "        run_time = input(\"Please Enter runtime in minutes! Enter 0 to indiate you've finished entering data\")\n",
    "        cnt +=1\n",
    "       \n",
    "        if not run_time:\n",
    "            avg_run = run_data/cnt\n",
    "            print(f\"Your average running time was {avg_run: .2f}\")\n",
    "            break\n",
    "        else:\n",
    "            run_data += float(run_time)\n",
    "#             print(run_data)\n",
    "                \n",
    "run_timing()\n",
    "\n"
   ]
  },
  {
   "cell_type": "code",
   "execution_count": 16,
   "id": "0dbf3fde-3c28-473c-a09a-fb4c35211abd",
   "metadata": {},
   "outputs": [
    {
     "name": "stdout",
     "output_type": "stream",
     "text": [
      ".\n"
     ]
    }
   ],
   "source": [
    "dig = str(33.63)\n",
    "print(dig[2])"
   ]
  },
  {
   "cell_type": "code",
   "execution_count": 26,
   "id": "6cdca8bd-2264-452f-9c4d-4597a7065ee9",
   "metadata": {},
   "outputs": [
    {
     "name": "stdout",
     "output_type": "stream",
     "text": [
      "654092.7305341\n",
      "final number is 54092.73053\n"
     ]
    }
   ],
   "source": [
    "#exercise 3.1\n",
    "\n",
    "def manupelate_digits(num, before, after):\n",
    "    digits = str(num)\n",
    "    print(digits)\n",
    "    num_left = digits.split(\".\")[0]\n",
    "    num_right = digits.split(\".\")[1]\n",
    "    new_num_left =[]\n",
    "    new_num_right=[]\n",
    "    \n",
    "    for i, num in enumerate(num_left):\n",
    "        if (len(num_left) - i) <= before:\n",
    "            new_num_left.append(num_left[i])\n",
    "            \n",
    "    for i, num in enumerate(num_right):\n",
    "        if i < after:\n",
    "            new_num_right.append(num_right[i])\n",
    "                \n",
    "    new_num_left =''.join(new_num_left)\n",
    "    new_num_right =''.join(new_num_right)\n",
    "    final_num = new_num_left + '.' + new_num_right\n",
    "    print(f\"final number is {final_num}\")\n",
    "    return float(final_num)\n",
    "\n",
    "after = 5\n",
    "before = 5\n",
    "myNum = 654092.7305341\n",
    "changed_num = manupelate_digits(myNum, before, after)\n"
   ]
  },
  {
   "cell_type": "code",
   "execution_count": 31,
   "id": "78bfbe66-74c3-492c-bc05-d381004ce220",
   "metadata": {},
   "outputs": [
    {
     "name": "stdout",
     "output_type": "stream",
     "text": [
      "<class 'float'>\n",
      "0.3\n"
     ]
    }
   ],
   "source": [
    "from decimal import *\n",
    "\n",
    "def experimenting_decimal(num1, num2):\n",
    "    numx1=Decimal(str(num1))\n",
    "    numx2=Decimal(str(num2))\n",
    "    res = numx1+numx2\n",
    "    print(type(float(res)))\n",
    "    print(res)\n",
    "    \n",
    "    \n",
    "num1 = 0.1\n",
    "num2 = 0.2\n",
    "experimenting_decimal(num1,num2)\n",
    "    "
   ]
  },
  {
   "cell_type": "code",
   "execution_count": null,
   "id": "14444854-4951-4353-80fe-65a29fdf028e",
   "metadata": {},
   "outputs": [],
   "source": []
  },
  {
   "cell_type": "code",
   "execution_count": null,
   "id": "3cf6caaf-4a2d-461c-a220-b62fcee8f755",
   "metadata": {},
   "outputs": [],
   "source": []
  }
 ],
 "metadata": {
  "kernelspec": {
   "display_name": "Python 3 (ipykernel)",
   "language": "python",
   "name": "python3"
  },
  "language_info": {
   "codemirror_mode": {
    "name": "ipython",
    "version": 3
   },
   "file_extension": ".py",
   "mimetype": "text/x-python",
   "name": "python",
   "nbconvert_exporter": "python",
   "pygments_lexer": "ipython3",
   "version": "3.9.5"
  }
 },
 "nbformat": 4,
 "nbformat_minor": 5
}
