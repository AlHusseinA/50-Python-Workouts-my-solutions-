{
 "cells": [
  {
   "cell_type": "code",
   "execution_count": 33,
   "id": "0196ccf0-3b16-42f9-befc-51d83a15cbd5",
   "metadata": {},
   "outputs": [
    {
     "name": "stdout",
     "output_type": "stream",
     "text": [
      "cnt is 0\n",
      "Result from my_sum function for [1, 2, -5] is: -2\n"
     ]
    }
   ],
   "source": [
    "# exercise 2\n",
    "\n",
    "\n",
    "def my_sum(*arg):\n",
    "    res = 0\n",
    "#     cnt = len(arg)\n",
    "    cnt = 0\n",
    "    print(f\"cnt is {cnt}\")\n",
    "    while True:\n",
    "        if cnt == len(arg):\n",
    "            return res\n",
    "        \n",
    "        res +=arg[cnt]\n",
    "        cnt +=1\n",
    "        \n",
    "\n",
    "test_list = [1,2,-5]\n",
    "\n",
    "my_res = my_sum(*test_list)\n",
    "\n",
    "print(f\"Result from my_sum function for {test_list} is: {my_res}\")\n"
   ]
  },
  {
   "cell_type": "code",
   "execution_count": 15,
   "id": "678127f5-6058-401b-a73a-edff383fcc80",
   "metadata": {},
   "outputs": [
    {
     "name": "stdout",
     "output_type": "stream",
     "text": [
      "<class 'tuple'>\n",
      "Result from my_sum function for [1, 2, -5] is: -2\n"
     ]
    }
   ],
   "source": [
    "# his solution\n",
    "def his_sum(*arg):\n",
    "    output = 0\n",
    "    print(type(arg))\n",
    "    for num in arg:\n",
    "        output += num\n",
    "    return output\n",
    "\n",
    "test_list = [1,2,-5]\n",
    "\n",
    "my_res = his_sum(*test_list)\n",
    "\n",
    "print(f\"Result from my_sum function for {test_list} is: {my_res}\")\n"
   ]
  },
  {
   "cell_type": "code",
   "execution_count": 32,
   "id": "5bbced49-6405-45ac-9556-30482c17cb0d",
   "metadata": {},
   "outputs": [
    {
     "name": "stdout",
     "output_type": "stream",
     "text": [
      "test_list is: [1, 2, 3]\n",
      "starting is: (2,) and output is 6\n",
      "Result from my_sum function for [1, 2, 3] is: 8\n"
     ]
    }
   ],
   "source": [
    "# exercise 2.1\n",
    "\n",
    "def my_sum2(numbers, *starting):\n",
    "    output = 0\n",
    "\n",
    "    for num in numbers:\n",
    "        output += num\n",
    "    print(f\"starting is: {starting} and output is {output}\")\n",
    "    if starting:\n",
    "        res = output + int(starting[0])\n",
    "        return res\n",
    "    else:\n",
    "        return output\n",
    "\n",
    "test_list = [1,2,3]\n",
    "print(f\"test_list is: {test_list}\")\n",
    "starting_point = 2\n",
    "# my_res = my_sum2(test_list)\n",
    "\n",
    "my_res = my_sum2(test_list, starting_point)\n",
    "\n",
    "print(f\"Result from my_sum function for {test_list} is: {my_res}\")"
   ]
  },
  {
   "cell_type": "code",
   "execution_count": 33,
   "id": "8d4c77cc-b4e7-4690-a87a-da3c186404bd",
   "metadata": {},
   "outputs": [
    {
     "name": "stdout",
     "output_type": "stream",
     "text": [
      "(2, 11, 5.333333333333333)\n"
     ]
    }
   ],
   "source": [
    "# exercise 2.3 \n",
    "# Write a function that takes a list of words (strings). It should return a tuple containing\n",
    "# three integers, representing the length of the shortest word, the length\n",
    "# of the longest word, and the average word length.\n",
    "\n",
    "\n",
    "def words_info(words):\n",
    "    shortest_word = min(words, key=len)\n",
    "    length_shortest_word = len(shortest_word)\n",
    "    longest_word = max(words, key=len)  \n",
    "    length_longest_word = len(longest_word)\n",
    "    res = 0\n",
    "    for word in words:\n",
    "        res += len(word)\n",
    "        \n",
    "    avg_word_length = res/len(words)   \n",
    "    return (length_shortest_word, length_longest_word, avg_word_length)\n",
    "\n",
    "my_words = [\"Hello\", \"ok\", \"oink\", \"space\", \"maybe\", \"spectacular\"]\n",
    "output = words_info(my_words)\n",
    "\n",
    "print(output)"
   ]
  },
  {
   "cell_type": "code",
   "execution_count": null,
   "id": "2d364f3e-258f-4789-96d2-36d42f744bb7",
   "metadata": {},
   "outputs": [],
   "source": []
  },
  {
   "cell_type": "code",
   "execution_count": null,
   "id": "e4640647-cdcf-45a9-b26b-dfd11b010146",
   "metadata": {},
   "outputs": [],
   "source": []
  }
 ],
 "metadata": {
  "kernelspec": {
   "display_name": "Python 3 (ipykernel)",
   "language": "python",
   "name": "python3"
  },
  "language_info": {
   "codemirror_mode": {
    "name": "ipython",
    "version": 3
   },
   "file_extension": ".py",
   "mimetype": "text/x-python",
   "name": "python",
   "nbconvert_exporter": "python",
   "pygments_lexer": "ipython3",
   "version": "3.9.5"
  }
 },
 "nbformat": 4,
 "nbformat_minor": 5
}
