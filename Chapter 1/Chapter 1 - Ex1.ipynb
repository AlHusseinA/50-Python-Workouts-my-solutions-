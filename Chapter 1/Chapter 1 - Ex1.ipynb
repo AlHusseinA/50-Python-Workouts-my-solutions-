{
 "cells": [
  {
   "cell_type": "code",
   "execution_count": null,
   "id": "b1c5d795-28c1-4bcc-af19-b77ae1146a9c",
   "metadata": {},
   "outputs": [],
   "source": [
    "# exercise 1.1\n",
    "\n",
    "import random\n",
    "\n",
    "def guessing_game():\n",
    "    counter = 0\n",
    "    my_number = random.randint(0,100)\n",
    "    while True:\n",
    "        if counter == 3:\n",
    "            print(\"you have used 3 tries. You failed\")\n",
    "            break\n",
    "            \n",
    "        s = int(input(\"Enter your guess between 0 and 100, it has to be an integer: \\n\"))\n",
    "        counter +=1\n",
    "        if my_number == s:\n",
    "            print(\"Correct guess! You win!\")\n",
    "            break\n",
    "        elif my_number > s:\n",
    "            print(\"Incorrect guess! Your guess is lower\")\n",
    "        elif my_number < s:\n",
    "            print(\"Incorrect guess! Your guess is higher\")  \n",
    "\n",
    "        \n",
    "guessing_game() "
   ]
  },
  {
   "cell_type": "code",
   "execution_count": null,
   "id": "853c93e7-d67a-4012-9ed5-e8a68dd8c2a3",
   "metadata": {},
   "outputs": [],
   "source": [
    "first = \"FIRSTXXXXXXbangXXX\"\n",
    "last = \"LAST\"\n",
    "\n",
    "print(f'Hello, {first:#<10} {last:#>10}')"
   ]
  },
  {
   "cell_type": "code",
   "execution_count": null,
   "id": "0c3d26aa-d68f-45ce-a32f-68477870f101",
   "metadata": {},
   "outputs": [],
   "source": []
  }
 ],
 "metadata": {
  "kernelspec": {
   "display_name": "Python 3 (ipykernel)",
   "language": "python",
   "name": "python3"
  },
  "language_info": {
   "codemirror_mode": {
    "name": "ipython",
    "version": 3
   },
   "file_extension": ".py",
   "mimetype": "text/x-python",
   "name": "python",
   "nbconvert_exporter": "python",
   "pygments_lexer": "ipython3",
   "version": "3.9.5"
  }
 },
 "nbformat": 4,
 "nbformat_minor": 5
}
