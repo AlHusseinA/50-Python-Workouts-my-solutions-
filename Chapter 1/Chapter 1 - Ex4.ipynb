{
 "cells": [
  {
   "cell_type": "code",
   "execution_count": 7,
   "id": "89695b57-afa2-4e8d-85dd-ebfc8bf22b8e",
   "metadata": {},
   "outputs": [
    {
     "name": "stdout",
     "output_type": "stream",
     "text": [
      "Hexadecimal number sent to the function is 50\n",
      " The function returns 6272035 integer\n"
     ]
    }
   ],
   "source": [
    "\n",
    "\n",
    "def hex_output(hex_num):\n",
    "    decimalnum = 0\n",
    "\n",
    "    for power, digit in enumerate(reversed(hex_num)):\n",
    "        decimalnum += int(digit,16)*(16**power)\n",
    "\n",
    "    return decimalnum\n",
    "\n",
    "hexa_num = str(50)\n",
    "# int_conversion = hex_output(hexa_num)\n",
    "int_conversion = hex_output('5FB423') # this should return 6272035\n",
    "\n",
    "print(f\"Hexadecimal number sent to the function is {hexa_num}\\n The function returns {int_conversion} integer\")\n",
    "        "
   ]
  },
  {
   "cell_type": "code",
   "execution_count": 10,
   "id": "dd8a617b-482a-4f4a-b4ad-8120b89d36f0",
   "metadata": {},
   "outputs": [
    {
     "name": "stdout",
     "output_type": "stream",
     "text": [
      "4031\n"
     ]
    }
   ],
   "source": [
    "print(int('FBF',16))"
   ]
  },
  {
   "cell_type": "code",
   "execution_count": 13,
   "id": "7c834aa8-0a21-4fe2-9a5d-3b203ed35117",
   "metadata": {},
   "outputs": [
    {
     "name": "stdout",
     "output_type": "stream",
     "text": [
      "70\n"
     ]
    }
   ],
   "source": [
    "print(ord('F'))"
   ]
  },
  {
   "cell_type": "code",
   "execution_count": null,
   "id": "0d5eecc2-1f12-44ad-888f-ed67ad151382",
   "metadata": {},
   "outputs": [],
   "source": []
  },
  {
   "cell_type": "code",
   "execution_count": null,
   "id": "3eec21f7-aa86-418f-848c-adc6bfdc925f",
   "metadata": {},
   "outputs": [],
   "source": []
  },
  {
   "cell_type": "code",
   "execution_count": null,
   "id": "2c8f8739-de83-47eb-bf0c-d89a2d9502c6",
   "metadata": {},
   "outputs": [],
   "source": []
  }
 ],
 "metadata": {
  "kernelspec": {
   "display_name": "Python 3 (ipykernel)",
   "language": "python",
   "name": "python3"
  },
  "language_info": {
   "codemirror_mode": {
    "name": "ipython",
    "version": 3
   },
   "file_extension": ".py",
   "mimetype": "text/x-python",
   "name": "python",
   "nbconvert_exporter": "python",
   "pygments_lexer": "ipython3",
   "version": "3.9.5"
  }
 },
 "nbformat": 4,
 "nbformat_minor": 5
}
