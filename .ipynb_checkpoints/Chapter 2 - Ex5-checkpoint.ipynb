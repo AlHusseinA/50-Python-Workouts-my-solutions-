{
 "cells": [
  {
   "cell_type": "code",
   "execution_count": null,
   "id": "1bec03b3-b3c1-4788-be1f-ccdc496b1570",
   "metadata": {},
   "outputs": [],
   "source": []
  },
  {
   "cell_type": "code",
   "execution_count": 20,
   "id": "22280fbc-2199-4bbf-8c34-22bac315e59d",
   "metadata": {},
   "outputs": [
    {
     "name": "stdout",
     "output_type": "stream",
     "text": [
      "i\n",
      "Translation of the word ion from English to Pig Latin is: ['ionway']\n"
     ]
    }
   ],
   "source": [
    "#exercise 5\n",
    "def pig_latin(engWord):\n",
    "    pigLating_word=[]\n",
    "    way = 'way'\n",
    "    print(engWord[0])\n",
    "    if engWord[0].lower() in 'aeiou':\n",
    "        pigLating_word.append(engWord + way)\n",
    "\n",
    "    else:\n",
    "\n",
    "        firstLetter = engWord[0]\n",
    "        pigLating_word = engWord[1:]+firstLetter+'ay'\n",
    "        \n",
    "    \n",
    "    return pigLating_word\n",
    "\n",
    "\n",
    "word2 = \"astro\"\n",
    "word3 = \"ion\"\n",
    "word4 = \"jumbo\"\n",
    "\n",
    "print(f\"Translation of the word {word3} from English to Pig Latin is: {pig_latin(word3)}\")"
   ]
  },
  {
   "cell_type": "code",
   "execution_count": 30,
   "id": "77f2c762-ec33-4705-9cc2-da110ab0ad83",
   "metadata": {},
   "outputs": [
    {
     "name": "stdout",
     "output_type": "stream",
     "text": [
      "a\n",
      "Translation of the word astro from English to Pig Latin is: astroway\n"
     ]
    }
   ],
   "source": [
    "#exercise 5\n",
    "def pig_latin(engWord):\n",
    "    \n",
    "    if engWord[0].lower() in 'aeiou':\n",
    "        return f'{engWord}{\"way\"}'\n",
    "\n",
    "    return f\"{engWord[1:]}{engWord[0]}{'ay'}\"\n",
    "\n",
    "word1 = \"duck\"\n",
    "word2 = \"astro\"\n",
    "word3 = \"ion\"\n",
    "word4 = \"jumbo\"\n",
    "\n",
    "print(f\"Translation of the word {word2} from English to Pig Latin is: {pig_latin(word2)}\")"
   ]
  },
  {
   "cell_type": "code",
   "execution_count": 44,
   "id": "63a7a9e8-db60-441a-8bb4-425608387eeb",
   "metadata": {},
   "outputs": [
    {
     "name": "stdout",
     "output_type": "stream",
     "text": [
      "Translation of the word jumbo from English to Pig Latin is: umbojay\n"
     ]
    }
   ],
   "source": [
    "\n",
    "#exercise 5.1\n",
    "def pig_latin(engWord):\n",
    "\n",
    "    if engWord[0].lower() in 'aeiou':\n",
    "        print(\"here\")\n",
    "        return f'{engWord}{\"way\"}'\n",
    "    \n",
    "    return f\"{engWord[1:].capitalize()}{engWord[0].lower()}{'ay'}\" if engWord[0].isupper() else f\"{engWord[1:]}{engWord[0]}{'ay'}\"\n",
    "\n",
    "\n",
    "word1 = \"Duck\"\n",
    "word2 = \"Astro\"\n",
    "word3 = \"ion\"\n",
    "word4 = \"jumbo\"\n",
    "\n",
    "print(f\"Translation of the word {word4} from English to Pig Latin is: {pig_latin(word4)}\")\n",
    "\n",
    "\n"
   ]
  },
  {
   "cell_type": "code",
   "execution_count": 53,
   "id": "1d7c4c8c-b124-43de-bc66-9313fb3b1f5c",
   "metadata": {},
   "outputs": [
    {
     "name": "stdout",
     "output_type": "stream",
     "text": [
      "Translation of the word Duck from English to Pig Latin is: Uckday\n"
     ]
    }
   ],
   "source": [
    "\n",
    "#exercise 5.2\n",
    "def pig_latin(engWord):\n",
    "    engWord2=\"\"\n",
    "    if engWord[-1] in \".?!,\\';:-\\\"`\":\n",
    "        engWord2=engWord[:-1]\n",
    "        if engWord2[0].lower() in 'aeiou':\n",
    "            \n",
    "            return f'{engWord2}{\"way\"}{engWord[-1]}'\n",
    "\n",
    "        return f\"{engWord2[1:].capitalize()}{engWord2[0].lower()}{'ay'}{engWord[-1]}\" if engWord2[0].isupper() else f\"{engWord2[1:]}{engWord2[0]}{'ay'}{engWord[-1]}\"\n",
    "    \n",
    "    if engWord[0].lower() in 'aeiou':\n",
    "        return f'{engWord}{\"way\"}'\n",
    "    \n",
    "    return f\"{engWord[1:].capitalize()}{engWord[0].lower()}{'ay'}\" if engWord[0].isupper() else f\"{engWord[1:]}{engWord[0]}{'ay'}\"\n",
    "\n",
    "word1 = \"Duck\"\n",
    "word2 = \"Astro.\"\n",
    "word3 = \"ion!\"\n",
    "word4 = \"jumbo?\"\n",
    "\n",
    "print(f\"Translation of the word {word1} from English to Pig Latin is: {pig_latin(word1)}\")"
   ]
  },
  {
   "cell_type": "code",
   "execution_count": 48,
   "id": "405133fc-366c-41ae-a0e1-2fbc23d9245b",
   "metadata": {},
   "outputs": [
    {
     "name": "stdout",
     "output_type": "stream",
     "text": [
      "t\n"
     ]
    }
   ],
   "source": [
    "#exercise 5.3\n",
    "\n",
    "def pig_latin(engWord):\n",
    "\n",
    "    if engWord[0].lower() in 'aeiou':\n",
    "        print(\"here\")\n",
    "        return f'{engWord}{\"way\"}'\n",
    "    \n",
    "    return f\"{engWord[1:].capitalize()}{engWord[0].lower()}{'ay'}\" if engWord[0].isupper() else f\"{engWord[1:]}{engWord[0]}{'ay'}\"\n",
    "\n",
    "\n",
    "word1 = \"Duck\"\n",
    "word2 = \"Astro\"\n",
    "word3 = \"ion\"\n",
    "word4 = \"jumbo\"\n",
    "\n",
    "print(f\"Translation of the word {word4} from English to Pig Latin is: {pig_latin(word4)}\")\n",
    "\n"
   ]
  },
  {
   "cell_type": "code",
   "execution_count": null,
   "id": "d2a190df-2f32-40d9-b48d-85de5d781afd",
   "metadata": {},
   "outputs": [],
   "source": []
  }
 ],
 "metadata": {
  "kernelspec": {
   "display_name": "Python 3 (ipykernel)",
   "language": "python",
   "name": "python3"
  },
  "language_info": {
   "codemirror_mode": {
    "name": "ipython",
    "version": 3
   },
   "file_extension": ".py",
   "mimetype": "text/x-python",
   "name": "python",
   "nbconvert_exporter": "python",
   "pygments_lexer": "ipython3",
   "version": "3.9.5"
  }
 },
 "nbformat": 4,
 "nbformat_minor": 5
}
